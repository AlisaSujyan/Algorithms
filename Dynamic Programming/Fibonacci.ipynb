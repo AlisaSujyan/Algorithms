{
 "cells": [
  {
   "metadata": {},
   "cell_type": "markdown",
   "source": "Fibonacci Sequence via DP",
   "id": "1560b1986e95b254"
  },
  {
   "cell_type": "code",
   "id": "initial_id",
   "metadata": {
    "collapsed": true,
    "ExecuteTime": {
     "end_time": "2025-05-23T19:40:02.592051Z",
     "start_time": "2025-05-23T19:40:02.579656Z"
    }
   },
   "source": [
    "def Fibonacci(n, memory={}):\n",
    "  if n == 0:\n",
    "    memory[0] = 0\n",
    "    return 0\n",
    "  if n == 1 or n == 2:\n",
    "    memory[1] = 1\n",
    "    memory[2] = 1\n",
    "    return 1\n",
    "  if n in memory:\n",
    "    return memory[n]\n",
    "  memory[n] = Fibonacci(n - 1, memory) + Fibonacci(n - 2, memory)\n",
    "  print(memory)\n",
    "  return memory[n]\n",
    "\n",
    "\n",
    "print(Fibonacci(7))\n",
    "print(Fibonacci(5))\n",
    "print(Fibonacci(10))"
   ],
   "outputs": [
    {
     "name": "stdout",
     "output_type": "stream",
     "text": [
      "{1: 1, 2: 1, 3: 2}\n",
      "{1: 1, 2: 1, 3: 2, 4: 3}\n",
      "{1: 1, 2: 1, 3: 2, 4: 3, 5: 5}\n",
      "{1: 1, 2: 1, 3: 2, 4: 3, 5: 5, 6: 8}\n",
      "{1: 1, 2: 1, 3: 2, 4: 3, 5: 5, 6: 8, 7: 13}\n",
      "13\n",
      "5\n",
      "{1: 1, 2: 1, 3: 2, 4: 3, 5: 5, 6: 8, 7: 13, 8: 21}\n",
      "{1: 1, 2: 1, 3: 2, 4: 3, 5: 5, 6: 8, 7: 13, 8: 21, 9: 34}\n",
      "{1: 1, 2: 1, 3: 2, 4: 3, 5: 5, 6: 8, 7: 13, 8: 21, 9: 34, 10: 55}\n",
      "55\n"
     ]
    }
   ],
   "execution_count": 1
  }
 ],
 "metadata": {
  "kernelspec": {
   "display_name": "Python 3",
   "language": "python",
   "name": "python3"
  },
  "language_info": {
   "codemirror_mode": {
    "name": "ipython",
    "version": 2
   },
   "file_extension": ".py",
   "mimetype": "text/x-python",
   "name": "python",
   "nbconvert_exporter": "python",
   "pygments_lexer": "ipython2",
   "version": "2.7.6"
  }
 },
 "nbformat": 4,
 "nbformat_minor": 5
}
