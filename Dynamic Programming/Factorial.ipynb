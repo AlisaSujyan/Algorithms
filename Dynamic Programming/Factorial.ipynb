{
 "cells": [
  {
   "metadata": {},
   "cell_type": "markdown",
   "source": "Factorial via DP",
   "id": "c87ccd72b19578c1"
  },
  {
   "metadata": {
    "ExecuteTime": {
     "end_time": "2025-05-23T19:41:13.223831Z",
     "start_time": "2025-05-23T19:41:13.210625Z"
    }
   },
   "cell_type": "code",
   "source": [
    "def factorial(n, memory={}):\n",
    "  if n == 0 or n == 1:\n",
    "    return 1\n",
    "  if n in memory:\n",
    "    return memory[n]\n",
    "  memory[n] = n * factorial(n - 1, memory)\n",
    "  print(memory)\n",
    "  return memory[n]\n",
    "\n",
    "print(factorial(7))\n",
    "\n",
    "print(factorial(5))\n",
    "\n",
    "print(factorial(10))"
   ],
   "id": "3012625571d5df88",
   "outputs": [
    {
     "name": "stdout",
     "output_type": "stream",
     "text": [
      "{2: 2}\n",
      "{2: 2, 3: 6}\n",
      "{2: 2, 3: 6, 4: 24}\n",
      "{2: 2, 3: 6, 4: 24, 5: 120}\n",
      "{2: 2, 3: 6, 4: 24, 5: 120, 6: 720}\n",
      "{2: 2, 3: 6, 4: 24, 5: 120, 6: 720, 7: 5040}\n",
      "5040\n",
      "120\n",
      "{2: 2, 3: 6, 4: 24, 5: 120, 6: 720, 7: 5040, 8: 40320}\n",
      "{2: 2, 3: 6, 4: 24, 5: 120, 6: 720, 7: 5040, 8: 40320, 9: 362880}\n",
      "{2: 2, 3: 6, 4: 24, 5: 120, 6: 720, 7: 5040, 8: 40320, 9: 362880, 10: 3628800}\n",
      "3628800\n"
     ]
    }
   ],
   "execution_count": 1
  }
 ],
 "metadata": {
  "kernelspec": {
   "name": "python3",
   "language": "python",
   "display_name": "Python 3 (ipykernel)"
  }
 },
 "nbformat": 5,
 "nbformat_minor": 9
}
