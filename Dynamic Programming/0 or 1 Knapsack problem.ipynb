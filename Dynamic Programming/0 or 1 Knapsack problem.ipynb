{
 "cells": [
  {
   "metadata": {},
   "cell_type": "markdown",
   "source": "The 0/1 Knapsack Problem is a classic optimization problem where we have a set of items, each with a weight and a value, and a knapsack with a maximum weight capacity. We need to select items to maximize the total value while ensuring the total weight doesn't exceed the limit. The \"0/1\" part means we can either take an item completely or leave it—it can’t be split.",
   "id": "1164a08b698ca35d"
  },
  {
   "metadata": {
    "ExecuteTime": {
     "end_time": "2025-05-23T19:56:20.308533Z",
     "start_time": "2025-05-23T19:56:20.298505Z"
    }
   },
   "cell_type": "code",
   "source": [
    "items = 5\n",
    "capacity = 7\n",
    "\n",
    "dict = {'1': [2, 3],\n",
    "        '2': [2, 1],\n",
    "        '3': [4, 3],\n",
    "        '4': [5, 4],\n",
    "        '5': [3, 2]}\n",
    "\n",
    "dp = [[0 for i in range(capacity + 1)] for i in range(items + 1)]\n",
    "\n",
    "def solve(dp, items, capacity, dict):\n",
    "  for i in range(1, items + 1):\n",
    "    for key, value in dict.items():\n",
    "      if key == str(i):\n",
    "        j = value[1]\n",
    "        dp[i][0:value[1]] = dp[i - 1][0:value[1]]\n",
    "        while j <= capacity:\n",
    "          dp[i][j] = max(dp[i-1][j], dp[i-1][j-value[1]] + value[0])\n",
    "          j += 1\n",
    "  return dp\n",
    "\n",
    "result = solve(dp, items, capacity, dict)\n",
    "\n",
    "counter = -1\n",
    "for row in result:\n",
    "  counter += 1\n",
    "  print(f\"Item{counter}\", row)\n",
    "\n",
    "picked_items = []\n",
    "j = capacity\n",
    "for i in range(items, 0, -1):\n",
    "    if dp[i][j] != dp[i - 1][j]:\n",
    "      picked_items.append(i)\n",
    "      j -= dict[str(i)][1]\n",
    "\n",
    "print(\"Picked items:\", picked_items)"
   ],
   "id": "bce76feeb8ee5d36",
   "outputs": [
    {
     "name": "stdout",
     "output_type": "stream",
     "text": [
      "Item0 [0, 0, 0, 0, 0, 0, 0, 0]\n",
      "Item1 [0, 0, 0, 2, 2, 2, 2, 2]\n",
      "Item2 [0, 2, 2, 2, 4, 4, 4, 4]\n",
      "Item3 [0, 2, 2, 4, 6, 6, 6, 8]\n",
      "Item4 [0, 2, 2, 4, 6, 7, 7, 9]\n",
      "Item5 [0, 2, 3, 5, 6, 7, 9, 10]\n",
      "Picked items: [5, 4, 2]\n"
     ]
    }
   ],
   "execution_count": 1
  }
 ],
 "metadata": {
  "kernelspec": {
   "name": "python3",
   "language": "python",
   "display_name": "Python 3 (ipykernel)"
  }
 },
 "nbformat": 5,
 "nbformat_minor": 9
}
