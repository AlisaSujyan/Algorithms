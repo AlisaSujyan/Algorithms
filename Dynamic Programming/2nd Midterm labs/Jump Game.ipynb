{
 "cells": [
  {
   "metadata": {},
   "cell_type": "markdown",
   "source": [
    "You are given a 0-indexed array of integers nums of length n. You are initially positioned at nums[0].\n",
    "\n",
    "Each element nums[i] represents the maximum length of a forward jump from index i. In other words, if you are at nums[i], you can jump to any nums[i + j] where:\n",
    "\n",
    "0 <= j <= nums[i] and\n",
    "i + j < n\n",
    "Return the minimum number of jumps to reach nums[n - 1]. The test cases are generated such that you can reach nums[n - 1]."
   ],
   "id": "27e845fd6ec1e1f8"
  },
  {
   "metadata": {
    "ExecuteTime": {
     "end_time": "2025-05-23T23:17:15.221414Z",
     "start_time": "2025-05-23T23:17:15.213028Z"
    }
   },
   "cell_type": "code",
   "source": [
    "arr = [2, 4, 3, 1, 4, 5, 3, 2, 1, 5, 4, 3]\n",
    "\n",
    "def jump(arr):\n",
    "  path = []\n",
    "  n = len(arr)\n",
    "  if n == 1:\n",
    "    return 0\n",
    "\n",
    "  jumps = 0\n",
    "  farthest = 0\n",
    "  current = 0\n",
    "  for i in range(n - 1):\n",
    "    farthest = max(farthest, i + arr[i])\n",
    "\n",
    "    if i == current:\n",
    "      jumps += 1\n",
    "      current = farthest\n",
    "      path.append(arr[i])\n",
    "\n",
    "      if current >= n - 1:\n",
    "        break\n",
    "  for i in range(len(path)):\n",
    "    if i != len(path) - 1:\n",
    "      print(path[i], end=\" -> \")\n",
    "    else:\n",
    "      print(path[i])\n",
    "  return jumps\n",
    "\n",
    "print(\"Number of jumps: \", jump(arr))"
   ],
   "id": "8ba274dbdec0fe0e",
   "outputs": [
    {
     "name": "stdout",
     "output_type": "stream",
     "text": [
      "2 -> 3 -> 5 -> 4\n",
      "Number of jumps:  4\n"
     ]
    }
   ],
   "execution_count": 1
  }
 ],
 "metadata": {
  "kernelspec": {
   "name": "python3",
   "language": "python",
   "display_name": "Python 3 (ipykernel)"
  }
 },
 "nbformat": 5,
 "nbformat_minor": 9
}
