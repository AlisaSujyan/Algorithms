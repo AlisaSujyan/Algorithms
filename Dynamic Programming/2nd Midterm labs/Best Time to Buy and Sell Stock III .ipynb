{
 "cells": [
  {
   "metadata": {},
   "cell_type": "markdown",
   "source": [
    "You are given an array prices where prices[i] is the price of a given stock on the ith day.\n",
    "\n",
    "Find the maximum profit you can achieve. You may complete at most two transactions.\n",
    "\n",
    "Note: You may not engage in multiple transactions simultaneously (i.e., you must sell the stock before you buy again).\n",
    "\n"
   ],
   "id": "34a96f9320bdae11"
  },
  {
   "metadata": {
    "ExecuteTime": {
     "end_time": "2025-05-26T22:05:34.631826Z",
     "start_time": "2025-05-26T22:05:34.626639Z"
    }
   },
   "cell_type": "code",
   "source": [
    "def maximum_profit(prices):\n",
    "    if not prices:\n",
    "        return 0\n",
    "\n",
    "    first_buy = float('-inf')\n",
    "    first_sell = 0\n",
    "    second_buy = float('-inf')\n",
    "    second_sell = 0\n",
    "\n",
    "    for price in prices:\n",
    "        first_buy = max(first_buy, -price)\n",
    "        first_sell = max(first_sell, first_buy + price)\n",
    "        second_buy = max(second_buy, first_sell - price)\n",
    "        second_sell = max(second_sell, second_buy + price)\n",
    "\n",
    "\n",
    "    return second_sell\n"
   ],
   "id": "1fb92dc2a8c37f27",
   "outputs": [],
   "execution_count": 5
  },
  {
   "metadata": {
    "ExecuteTime": {
     "end_time": "2025-05-26T22:05:36.608960Z",
     "start_time": "2025-05-26T22:05:36.604405Z"
    }
   },
   "cell_type": "code",
   "source": [
    "prices = [10, 15, 8, 7, 6, 9, 10, 5, 15, 20, 21, 17]\n",
    "print(maximum_profit(prices))"
   ],
   "id": "651452c139d39f55",
   "outputs": [
    {
     "name": "stdout",
     "output_type": "stream",
     "text": [
      "21\n"
     ]
    }
   ],
   "execution_count": 6
  }
 ],
 "metadata": {
  "kernelspec": {
   "name": "python3",
   "language": "python",
   "display_name": "Python 3 (ipykernel)"
  }
 },
 "nbformat": 5,
 "nbformat_minor": 9
}
