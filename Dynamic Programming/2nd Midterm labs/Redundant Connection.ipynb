{
 "cells": [
  {
   "metadata": {},
   "cell_type": "markdown",
   "source": [
    "In this problem, a tree is an undirected graph that is connected and has no cycles.\n",
    "\n",
    "You are given a graph that started as a tree with n nodes labeled from 1 to n, with one additional edge added. The added edge has two different vertices chosen from 1 to n, and was not an edge that already existed. The graph is represented as an array edges of length n where edges[i] = [$a_{i}$, $b_{i}$] indicates that there is an edge between nodes ai and bi in the graph.\n",
    "\n",
    "Return an edge that can be removed so that the resulting graph is a tree of n nodes. If there are multiple answers, return the answer that occurs last in the input.\n",
    "\n"
   ],
   "id": "bb63a6ee6ed587fe"
  },
  {
   "metadata": {},
   "cell_type": "code",
   "source": [
    "def RedundantConnection(edges):\n",
    "\n",
    "  def cycle(graph, node, visited, parent):\n",
    "    visited.add(node)\n",
    "    for neighbor in graph[node]:\n",
    "      if neighbor not in visited:\n",
    "        if cycle(graph, neighbor, visited, node):\n",
    "          return True\n",
    "      elif neighbor != parent:\n",
    "        return True\n",
    "    return False\n",
    "\n",
    "  graph = {}\n",
    "\n",
    "  for u, v in edges:\n",
    "\n",
    "    if u not in graph:\n",
    "      graph[u] = []\n",
    "    if v not in graph:\n",
    "      graph[v] = []\n",
    "\n",
    "    graph[u].append(v)\n",
    "    graph[v].append(u)\n",
    "\n",
    "    visited = set()\n",
    "    if cycle(graph, u, visited, -1):\n",
    "      print(graph)\n",
    "      return [u, v]\n",
    "\n",
    "  return []\n",
    "\n",
    "edges = [[0, 1], [0, 2], [1, 3], [1, 4], [2, 5],\n",
    "          [2, 6], [3, 7], [3, 8], [4, 9], [4, 10],\n",
    "          [5, 11], [5, 12], [6, 12]]\n",
    "\n",
    "print(\"The Redundant Connection is: \", RedundantConnection(edges))"
   ],
   "id": "984d97367e1b6115",
   "outputs": [
    {
     "name": "stdout",
     "output_type": "stream",
     "text": [
      "{0: [1, 2], 1: [0, 3, 4], 2: [0, 5, 6], 3: [1, 7, 8], 4: [1, 9, 10], 5: [2, 11, 12], 6: [2, 12], 7: [3], 8: [3], 9: [4], 10: [4], 11: [5], 12: [5, 6]}\n",
      "The Redundant Connection is:  [6, 12]\n"
     ]
    }
   ],
   "execution_count": 2
  }
 ],
 "metadata": {
  "kernelspec": {
   "name": "python3",
   "language": "python",
   "display_name": "Python 3 (ipykernel)"
  }
 },
 "nbformat": 5,
 "nbformat_minor": 9
}
