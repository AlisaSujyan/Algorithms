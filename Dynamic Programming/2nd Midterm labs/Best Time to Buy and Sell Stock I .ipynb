{
 "cells": [
  {
   "metadata": {},
   "cell_type": "markdown",
   "source": [
    "You are given an array prices where prices[i] is the price of a given stock on the ith day.\n",
    "\n",
    "You want to maximize your profit by choosing a single day to buy one stock and choosing a different day in the future to sell that stock.\n",
    "\n",
    "Return the maximum profit you can achieve from this transaction. If you cannot achieve any profit, return 0."
   ],
   "id": "37f7d6cb88d4ee48"
  },
  {
   "metadata": {},
   "cell_type": "markdown",
   "source": "O ($n^2$)",
   "id": "d94601b161ef5977"
  },
  {
   "cell_type": "code",
   "id": "initial_id",
   "metadata": {
    "collapsed": true,
    "ExecuteTime": {
     "end_time": "2025-05-26T18:42:27.977694Z",
     "start_time": "2025-05-26T18:42:27.970694Z"
    }
   },
   "source": [
    "def solution(arr):\n",
    "  n = len(arr)\n",
    "  buy = min(arr)\n",
    "  sell = max(arr)\n",
    "  if buy == sell:\n",
    "    return 0\n",
    "  if arr.index(buy) < arr.index(sell):\n",
    "    return sell - buy, \"Buy on day:\", arr.index(buy), \"Sell on day:\", arr.index(sell)\n",
    "  else:\n",
    "    maximum_difference = 0\n",
    "    for i in range(n):\n",
    "      for j in range(i + 1, n):\n",
    "        if arr[j] - arr[i] > maximum_difference:\n",
    "          maximum_difference = arr[j] - arr[i]\n",
    "          buy_day = i\n",
    "          sell_day = j\n",
    "    return maximum_difference, \"Buy on day:\", buy_day, \"Sell on day:\", sell_day\n"
   ],
   "outputs": [],
   "execution_count": 9
  },
  {
   "metadata": {
    "ExecuteTime": {
     "end_time": "2025-05-26T18:42:27.996525Z",
     "start_time": "2025-05-26T18:42:27.988237Z"
    }
   },
   "cell_type": "code",
   "source": [
    "prices = [10, 15, 8, 7, 6, 9, 10, 5, 15, 20, 21, 17]\n",
    "solution(prices)"
   ],
   "id": "39dc459efea3c0cc",
   "outputs": [
    {
     "data": {
      "text/plain": [
       "(16, 'Buy on day:', 7, 'Sell on day:', 10)"
      ]
     },
     "execution_count": 10,
     "metadata": {},
     "output_type": "execute_result"
    }
   ],
   "execution_count": 10
  },
  {
   "metadata": {
    "ExecuteTime": {
     "end_time": "2025-05-26T18:42:28.034126Z",
     "start_time": "2025-05-26T18:42:28.025607Z"
    }
   },
   "cell_type": "code",
   "source": [
    "prices = [4, 5, 8, 10, 6, 2, 9, 7, 1, 3, 2]\n",
    "solution(prices)"
   ],
   "id": "458461321779f9ed",
   "outputs": [
    {
     "data": {
      "text/plain": [
       "(7, 'Buy on day:', 5, 'Sell on day:', 6)"
      ]
     },
     "execution_count": 11,
     "metadata": {},
     "output_type": "execute_result"
    }
   ],
   "execution_count": 11
  },
  {
   "metadata": {},
   "cell_type": "markdown",
   "source": "O ($n$)",
   "id": "322868a07b90aa5"
  },
  {
   "metadata": {
    "ExecuteTime": {
     "end_time": "2025-05-26T18:42:28.064795Z",
     "start_time": "2025-05-26T18:42:28.057671Z"
    }
   },
   "cell_type": "code",
   "source": [
    "def maximum_profit(arr):\n",
    "  n = len(arr)\n",
    "  profit = 0\n",
    "  buy = arr[0]\n",
    "  for i in range(1, n):\n",
    "    if arr[i] > buy:\n",
    "      profit = max(profit, arr[i] - buy)\n",
    "    else:\n",
    "      buy = arr[i]\n",
    "  return profit\n"
   ],
   "id": "bb14fd5c67aa61d8",
   "outputs": [],
   "execution_count": 12
  },
  {
   "metadata": {
    "ExecuteTime": {
     "end_time": "2025-05-26T18:42:28.129533Z",
     "start_time": "2025-05-26T18:42:28.123196Z"
    }
   },
   "cell_type": "code",
   "source": [
    "prices = [4, 5, 8, 10, 6, 2, 9, 7, 1, 3, 2]\n",
    "maximum_profit(prices)"
   ],
   "id": "dc6ef0045c2ba895",
   "outputs": [
    {
     "data": {
      "text/plain": [
       "7"
      ]
     },
     "execution_count": 13,
     "metadata": {},
     "output_type": "execute_result"
    }
   ],
   "execution_count": 13
  }
 ],
 "metadata": {
  "kernelspec": {
   "display_name": "Python 3",
   "language": "python",
   "name": "python3"
  },
  "language_info": {
   "codemirror_mode": {
    "name": "ipython",
    "version": 2
   },
   "file_extension": ".py",
   "mimetype": "text/x-python",
   "name": "python",
   "nbconvert_exporter": "python",
   "pygments_lexer": "ipython2",
   "version": "2.7.6"
  }
 },
 "nbformat": 4,
 "nbformat_minor": 5
}
