{
 "cells": [
  {
   "metadata": {},
   "cell_type": "markdown",
   "source": [
    "You are given an integer array nums and an integer target.\n",
    "\n",
    "You want to build an expression out of nums by adding one of the symbols '+' and '-' before each integer in nums and then concatenate all the integers.\n",
    "\n",
    "For example, if nums = [2, 1], you can add a '+' before 2 and a '-' before 1 and concatenate them to build the expression \"+2-1\".\n",
    "Return the number of different expressions that you can build, which evaluates to target.\n",
    "\n"
   ],
   "id": "a75c081b5c1c29b5"
  },
  {
   "metadata": {
    "ExecuteTime": {
     "end_time": "2025-05-23T23:19:19.429971Z",
     "start_time": "2025-05-23T23:19:19.423866Z"
    }
   },
   "cell_type": "code",
   "source": [
    "def target_sum(arr, target):\n",
    "  total_sum = sum(arr)\n",
    "\n",
    "  if target > total_sum or (target + total_sum) % 2 == 1:\n",
    "    return False\n",
    "\n",
    "  subset_sum = (target + total_sum) // 2\n",
    "  dp = [0 for i in range(subset_sum + 1)]\n",
    "  dp[0] = 1\n",
    "\n",
    "  for num in arr:\n",
    "    for i in range(subset_sum, num - 1, -1):\n",
    "      dp[i] += dp[i - num]\n",
    "\n",
    "  return dp[subset_sum]\n",
    "\n",
    "print(\"The number of different expressions: \", target_sum([1, 1, 1, 1, 1], 3))"
   ],
   "id": "842613264c9ef3f1",
   "outputs": [
    {
     "name": "stdout",
     "output_type": "stream",
     "text": [
      "The number of different expressions:  5\n"
     ]
    }
   ],
   "execution_count": 2
  }
 ],
 "metadata": {
  "kernelspec": {
   "name": "python3",
   "language": "python",
   "display_name": "Python 3 (ipykernel)"
  }
 },
 "nbformat": 5,
 "nbformat_minor": 9
}
