{
 "cells": [
  {
   "metadata": {},
   "cell_type": "markdown",
   "source": [
    "There is an undirected star graph consisting of n nodes labeled from 1 to n. A star graph is a graph where there is one center node and exactly n - 1 edges that connect the center node with every other node.\n",
    "\n",
    "You are given a 2D integer array edges where each edges[i] = [$u_i$, $v_i$] indicates that there is an edge between the nodes $u_i$ and $v_i$. Return the center of the given star graph."
   ],
   "id": "30421295d7850d5c"
  },
  {
   "metadata": {
    "ExecuteTime": {
     "end_time": "2025-05-23T23:21:47.923047Z",
     "start_time": "2025-05-23T23:21:47.910849Z"
    }
   },
   "cell_type": "code",
   "source": [
    "def convert_to_matrix(edges, n):\n",
    "    matrix = [[0] * n for _ in range(n)]\n",
    "\n",
    "    for u, v in edges:\n",
    "        matrix[u][v] = 1\n",
    "        matrix[v][u] = 1\n",
    "\n",
    "    return matrix\n",
    "\n",
    "n = 6\n",
    "edges = [(0, 1), (0, 2), (0, 3), (0, 4), (0, 5)]\n",
    "graph = convert_to_matrix(edges, n)\n",
    "\n",
    "for row in graph:\n",
    "  print(row)\n",
    "\n",
    "def solution(graph):\n",
    "  n = len(graph)\n",
    "  star_center = []\n",
    "  star_edges = []\n",
    "  count = 0\n",
    "  for i in range(n):\n",
    "    for j in range(n):\n",
    "      if graph[i][j] == 1:\n",
    "        count += 1\n",
    "    if count == n-1:\n",
    "      star_center.append(i)\n",
    "    elif count == 1:\n",
    "      star_edges.append(i)\n",
    "    else:\n",
    "      return \"This graph isn't a star graph!\"\n",
    "\n",
    "    count = 0\n",
    "  return \"Center nodes:\", star_center, \"Edge nodes:\", star_edges\n",
    "\n",
    "solution(graph)\n"
   ],
   "id": "8cee3a0a3c567e40",
   "outputs": [
    {
     "name": "stdout",
     "output_type": "stream",
     "text": [
      "[0, 1, 1, 1, 1, 1]\n",
      "[1, 0, 0, 0, 0, 0]\n",
      "[1, 0, 0, 0, 0, 0]\n",
      "[1, 0, 0, 0, 0, 0]\n",
      "[1, 0, 0, 0, 0, 0]\n",
      "[1, 0, 0, 0, 0, 0]\n"
     ]
    },
    {
     "data": {
      "text/plain": [
       "('Center nodes:', [0], 'Edge nodes:', [1, 2, 3, 4, 5])"
      ]
     },
     "execution_count": 4,
     "metadata": {},
     "output_type": "execute_result"
    }
   ],
   "execution_count": 4
  }
 ],
 "metadata": {
  "kernelspec": {
   "name": "python3",
   "language": "python",
   "display_name": "Python 3 (ipykernel)"
  }
 },
 "nbformat": 5,
 "nbformat_minor": 9
}
