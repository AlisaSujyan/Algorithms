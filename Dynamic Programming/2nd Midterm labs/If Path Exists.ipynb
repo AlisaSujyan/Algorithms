{
 "cells": [
  {
   "metadata": {},
   "cell_type": "markdown",
   "source": [
    "There is a bi-directional graph with n vertices, where each vertex is labeled from 0 to n - 1 (inclusive). The edges in the graph are represented as a 2D integer array edges, where each edges[i] = [$u_i$, $v_i$] denotes a bi-directional edge between vertex ui and vertex vi. Every vertex pair is connected by at most one edge, and no vertex has an edge to itself.\n",
    "\n",
    "You want to determine if there is a valid path that exists from vertex source to vertex destination.\n",
    "\n",
    "Given edges and the integers n, source, and destination, return true if there is a valid path from source to destination, or false otherwise."
   ],
   "id": "23b11d7ed0c87bd1"
  },
  {
   "metadata": {
    "ExecuteTime": {
     "end_time": "2025-05-23T23:10:13.333140Z",
     "start_time": "2025-05-23T23:10:13.313774Z"
    }
   },
   "cell_type": "code",
   "source": [
    "def Path_exisits(n, edges, start, destination):\n",
    "  graph = {i: [] for i in range(n)}\n",
    "\n",
    "  for u, v in edges:\n",
    "    graph[u].append(v)\n",
    "    graph[v].append(u)\n",
    "\n",
    "  print(graph)\n",
    "\n",
    "  queue = [start]\n",
    "  visited = set()\n",
    "\n",
    "  while queue:\n",
    "    node = queue.pop(0)\n",
    "    if node == destination:\n",
    "      return True\n",
    "\n",
    "    if node not in visited:\n",
    "      visited.add(node)\n",
    "      for neighbor in graph[node]:\n",
    "        queue.append(neighbor)\n",
    "\n",
    "  return False\n",
    "\n",
    "n = 6\n",
    "edges = [[0, 1], [0, 2], [3, 5], [5, 4], [4, 3]]\n",
    "\n",
    "destination = 5"
   ],
   "id": "4db3e81f16e935b7",
   "outputs": [],
   "execution_count": 1
  },
  {
   "metadata": {
    "ExecuteTime": {
     "end_time": "2025-05-23T23:10:15.724887Z",
     "start_time": "2025-05-23T23:10:15.720313Z"
    }
   },
   "cell_type": "code",
   "source": "start = 0",
   "id": "91aef5376533c036",
   "outputs": [],
   "execution_count": 2
  },
  {
   "metadata": {
    "ExecuteTime": {
     "end_time": "2025-05-23T23:10:17.462247Z",
     "start_time": "2025-05-23T23:10:17.448777Z"
    }
   },
   "cell_type": "code",
   "source": [
    "path = Path_exisits(n, edges, start, destination)\n",
    "if path:\n",
    "  print(\"There is a path from\", start, \"to\", destination)\n",
    "else:\n",
    "  print(\"There is no path from\", start, \"to\", destination)\n"
   ],
   "id": "aff7d603b3efe825",
   "outputs": [
    {
     "name": "stdout",
     "output_type": "stream",
     "text": [
      "{0: [1, 2], 1: [0], 2: [0], 3: [5, 4], 4: [5, 3], 5: [3, 4]}\n",
      "There is no path from 0 to 5\n"
     ]
    }
   ],
   "execution_count": 3
  },
  {
   "metadata": {
    "ExecuteTime": {
     "end_time": "2025-05-23T23:10:28.431626Z",
     "start_time": "2025-05-23T23:10:28.423344Z"
    }
   },
   "cell_type": "code",
   "source": "start = 3",
   "id": "aeda880967525af2",
   "outputs": [],
   "execution_count": 4
  },
  {
   "metadata": {
    "ExecuteTime": {
     "end_time": "2025-05-23T23:10:29.467805Z",
     "start_time": "2025-05-23T23:10:29.463911Z"
    }
   },
   "cell_type": "code",
   "source": [
    "path = Path_exisits(n, edges, start, destination)\n",
    "if path:\n",
    "  print(\"There is a path from\", start, \"to\", destination)\n",
    "else:\n",
    "  print(\"There is no path from\", start, \"to\", destination)\n"
   ],
   "id": "5a1d37e33ea0a4b9",
   "outputs": [
    {
     "name": "stdout",
     "output_type": "stream",
     "text": [
      "{0: [1, 2], 1: [0], 2: [0], 3: [5, 4], 4: [5, 3], 5: [3, 4]}\n",
      "There is a path from 3 to 5\n"
     ]
    }
   ],
   "execution_count": 5
  }
 ],
 "metadata": {
  "kernelspec": {
   "name": "python3",
   "language": "python",
   "display_name": "Python 3 (ipykernel)"
  }
 },
 "nbformat": 5,
 "nbformat_minor": 9
}
