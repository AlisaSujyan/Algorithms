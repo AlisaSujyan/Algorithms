{
 "cells": [
  {
   "metadata": {},
   "cell_type": "markdown",
   "source": [
    "You are given an integer array prices where prices[i] is the price of a given stock on the ith day.\n",
    "\n",
    "On each day, you may decide to buy and/or sell the stock. You can only hold at most one share of the stock at any time. However, you can buy it then immediately sell it on the same day.\n",
    "\n",
    "Find and return the maximum profit you can achieve."
   ],
   "id": "283aa642a0f0616f"
  },
  {
   "metadata": {
    "ExecuteTime": {
     "end_time": "2025-05-26T22:07:02.580679Z",
     "start_time": "2025-05-26T22:07:02.569674Z"
    }
   },
   "cell_type": "code",
   "source": [
    "def maximum_profit(arr):\n",
    "  n = len(arr)\n",
    "  profit = 0\n",
    "  for i in range(1, n):\n",
    "    if arr[i] > arr[i - 1]:\n",
    "      profit += arr[i] - arr[i - 1]\n",
    "  return profit\n",
    "\n",
    "prices = [10, 15, 8, 7, 6, 9, 10, 5, 15, 20, 21, 17]\n",
    "print(maximum_profit(prices))"
   ],
   "id": "61c5651671685782",
   "outputs": [
    {
     "name": "stdout",
     "output_type": "stream",
     "text": [
      "25\n"
     ]
    }
   ],
   "execution_count": 1
  }
 ],
 "metadata": {
  "kernelspec": {
   "name": "python3",
   "language": "python",
   "display_name": "Python 3 (ipykernel)"
  }
 },
 "nbformat": 5,
 "nbformat_minor": 9
}
